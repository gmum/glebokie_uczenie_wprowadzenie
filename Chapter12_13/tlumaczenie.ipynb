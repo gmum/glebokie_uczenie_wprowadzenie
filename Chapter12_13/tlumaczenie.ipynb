{
 "cells": [
  {
   "cell_type": "markdown",
   "metadata": {
    "id": "ETFpFlCmeuSB"
   },
   "source": [
    "# Modele Seq2Seq i atencja\n",
    "Poniższy notebook jest inspirowany tym tutorialem PyTorcha: https://pytorch.org/tutorials/intermediate/seq2seq_translation_tutorial.html. \n",
    "\n",
    "W tym notebooku będziemy próbować rozwiązać problem automatycznego tłumaczenia zdań z jednego języka naturalnego na drugi -- konkretniej z języka polskiego na angielski. Dla przykładu model otrzymujący zdanie:\n",
    "\n",
    "> Myślę, że mnie okłamałeś\n",
    "\n",
    "Powinien zwrócić zdanie\n",
    "> I think you lied to me."
   ]
  },
  {
   "cell_type": "markdown",
   "metadata": {
    "id": "Do7k4lf0zsxu"
   },
   "source": [
    "# Importy i przygotowanie danych\n",
    "Poniżej znajdują się importy bibliotek potrzebnych do rozwiązania problemu a także skrypt do ładowania zbioru danych zawierającego pary zdań w języku polskim i angielskim. Model przedstawione w tym rozdziale wymagają dużej mocy obliczeniowej, w związku z czym zachęcamy do korzystania z karty graficznej i CUDA."
   ]
  },
  {
   "cell_type": "code",
   "execution_count": 1,
   "metadata": {
    "id": "zCAgsgj3d7Kf"
   },
   "outputs": [],
   "source": [
    "%matplotlib inline"
   ]
  },
  {
   "cell_type": "code",
   "execution_count": 2,
   "metadata": {
    "id": "Z1yFSn0ld7Ki"
   },
   "outputs": [
    {
     "name": "stdout",
     "output_type": "stream",
     "text": [
      "cuda\n"
     ]
    }
   ],
   "source": [
    "from __future__ import unicode_literals, print_function, division\n",
    "from io import open\n",
    "import matplotlib.pyplot as plt\n",
    "import matplotlib.ticker as ticker\n",
    "\n",
    "import unicodedata\n",
    "import string\n",
    "import numpy as np\n",
    "import re\n",
    "import random\n",
    "import seaborn as sns\n",
    "\n",
    "import torch\n",
    "import torch.nn as nn\n",
    "from torch import optim\n",
    "import torch.nn.functional as F\n",
    "from torchtext.data.metrics import bleu_score\n",
    "\n",
    "from torch.utils.data import DataLoader\n",
    "from torch.nn.utils.rnn import pad_sequence\n",
    "\n",
    "device = torch.device(\"cuda\" if torch.cuda.is_available() else \"cpu\")\n",
    "print(device)"
   ]
  },
  {
   "cell_type": "markdown",
   "metadata": {},
   "source": [
    "Pobieranie zbioru danych. Dataset pochodzi ze strony [tatoeba.org](https://tatoeba.org/en/downloads) i został udostępniony na podstawie licencji [CC BY 2.0 FR](https://creativecommons.org/licenses/by/2.0/fr/deed.en)."
   ]
  },
  {
   "cell_type": "code",
   "execution_count": 3,
   "metadata": {
    "colab": {
     "base_uri": "https://localhost:8080/"
    },
    "id": "iUVJHRTXKoWh",
    "outputId": "153ebb2c-bdc1-402d-eec2-5f6371ae5443"
   },
   "outputs": [
    {
     "name": "stdout",
     "output_type": "stream",
     "text": [
      "--2022-04-10 00:18:30--  https://raw.githubusercontent.com/gmum/ml2021-22/master/lab/resources/eng-pol.txt\n",
      "Resolving raw.githubusercontent.com (raw.githubusercontent.com)... 185.199.110.133, 185.199.109.133, 185.199.108.133, ...\n",
      "Connecting to raw.githubusercontent.com (raw.githubusercontent.com)|185.199.110.133|:443... connected.\n",
      "HTTP request sent, awaiting response... 200 OK\n",
      "Length: 5081049 (4.8M) [text/plain]\n",
      "Saving to: ‘eng-pol.txt’\n",
      "\n",
      "eng-pol.txt         100%[===================>]   4.84M  8.64MB/s    in 0.6s    \n",
      "\n",
      "2022-04-10 00:18:32 (8.64 MB/s) - ‘eng-pol.txt’ saved [5081049/5081049]\n",
      "\n"
     ]
    }
   ],
   "source": [
    "!wget https://raw.githubusercontent.com/gmum/ml2021-22/master/lab/resources/eng-pol.txt"
   ]
  },
  {
   "cell_type": "markdown",
   "metadata": {
    "id": "5KnEaLlNpire"
   },
   "source": [
    "Poniżej przygotowujemy klasę `Lang` która będzie służyła jako struktura do obsługiwania naszego języka (osobna dla angielskiego i polskiego w naszym przypadku). Do każdego słowa w języku przypisujemy indeks (liczbę porządkową identyfikującą słowo). Dodatkowo definiujemy trzy dodatkowe indeksy:\n",
    "\n",
    "* 0 dla początku zdania (Start of Sentence, SOS)\n",
    "* 1 dla końca zdania (End of Sentence, EOS)\n",
    "* 2 dla paddingu (\"pustych\" wartości). Wartościami tymi będziemy wypełniać zdania w batchu tak, żeby wszystkie były równej długości -- dzięki temu łatwiej będzie zrównoleglić przetwarzanie ich na GPU."
   ]
  },
  {
   "cell_type": "code",
   "execution_count": 4,
   "metadata": {
    "id": "E3DtzxXTd7Kk"
   },
   "outputs": [],
   "source": [
    "SOS_token = 0\n",
    "EOS_token = 1\n",
    "PAD_token = 2\n",
    "\n",
    "\n",
    "class Lang:\n",
    "    def __init__(self, name):\n",
    "        self.name = name\n",
    "        self.word2index = {}\n",
    "        self.word2count = {}\n",
    "        self.index2word = {0: \"SOS\", 1: \"EOS\", 2: \"PAD\"}\n",
    "        self.n_words = 3  # Count SOS, EOS and PAD\n",
    "\n",
    "    def addSentence(self, sentence):\n",
    "        for word in sentence.split(\" \"):\n",
    "            self.addWord(word)\n",
    "\n",
    "    def addWord(self, word):\n",
    "        if word not in self.word2index:\n",
    "            self.word2index[word] = self.n_words\n",
    "            self.word2count[word] = 1\n",
    "            self.index2word[self.n_words] = word\n",
    "            self.n_words += 1\n",
    "        else:\n",
    "            self.word2count[word] += 1"
   ]
  },
  {
   "cell_type": "markdown",
   "metadata": {
    "id": "KrV27D5Xryh1"
   },
   "source": [
    "Funkcje do normalizowania wchodzących zdań - zamieniamy Unicode na ASCII, zamieniamy wszystkie wielkie litery na małe itd."
   ]
  },
  {
   "cell_type": "code",
   "execution_count": 5,
   "metadata": {
    "id": "JLLuOE80d7Kk"
   },
   "outputs": [],
   "source": [
    "# Turn a Unicode string to plain ASCII, thanks to\n",
    "# https://stackoverflow.com/a/518232/2809427\n",
    "def unicodeToAscii(s):\n",
    "    return \"\".join(\n",
    "        c for c in unicodedata.normalize(\"NFD\", s) if unicodedata.category(c) != \"Mn\"\n",
    "    )\n",
    "\n",
    "\n",
    "# Lowercase, trim, and remove non-letter characters\n",
    "\n",
    "\n",
    "def normalizeString(s):\n",
    "    s = unicodeToAscii(s.lower().strip())\n",
    "    s = s.replace(\"ł\", \"l\")\n",
    "    s = re.sub(r\"([.!?])\", r\" \\1\", s)\n",
    "    s = re.sub(r\"[^a-zA-Z.!?]+\", r\" \", s)\n",
    "    return s\n",
    "\n",
    "\n",
    "def readLangs(lang1, lang2, reverse=False):\n",
    "    print(\"Reading lines...\")\n",
    "\n",
    "    # Read the file and split into lines\n",
    "    lines = open(\"eng-pol.txt\", encoding=\"utf-8\").read().strip().split(\"\\n\")\n",
    "    lines = lines[1:]  # Skip first line with attributions.\n",
    "\n",
    "    # Split every line into pairs and normalize\n",
    "    pairs = [[normalizeString(s) for s in l.split(\"\\t\")[1::2]] for l in lines]\n",
    "\n",
    "    # Reverse pairs, make Lang instances\n",
    "    if reverse:\n",
    "        pairs = [list(reversed(p)) for p in pairs]\n",
    "        input_lang = Lang(lang2)\n",
    "        output_lang = Lang(lang1)\n",
    "    else:\n",
    "        input_lang = Lang(lang1)\n",
    "        output_lang = Lang(lang2)\n",
    "\n",
    "    return input_lang, output_lang, pairs"
   ]
  },
  {
   "cell_type": "markdown",
   "metadata": {
    "id": "7Ld3aJ9Nd7Kl"
   },
   "source": [
    "Wyrzućmy zdania które są zbyt długie (ponad 20 słów)."
   ]
  },
  {
   "cell_type": "code",
   "execution_count": 6,
   "metadata": {
    "id": "E6fbLbiQd7Km"
   },
   "outputs": [],
   "source": [
    "MAX_LENGTH = 20\n",
    "\n",
    "\n",
    "def filterPair(p):\n",
    "    return len(p[0].split(\" \")) <= MAX_LENGTH and len(p[1].split(\" \")) <= MAX_LENGTH\n",
    "\n",
    "\n",
    "def filterPairs(pairs):\n",
    "    return [pair for pair in pairs if filterPair(pair)]"
   ]
  },
  {
   "cell_type": "markdown",
   "metadata": {
    "id": "csmhl8Iod7Km"
   },
   "source": [
    "Pełny proces przetwarzania danych wygląda następująco:\n",
    "\n",
    "- Wczytujemy plik z danymi, dzielimy go na pary zdań.\n",
    "- Normalizujemy tekst\n",
    "- Zamieniamy zdania w listy słów.\n",
    "\n",
    "\n"
   ]
  },
  {
   "cell_type": "code",
   "execution_count": 7,
   "metadata": {
    "colab": {
     "base_uri": "https://localhost:8080/"
    },
    "id": "iRd-fNMAd7Km",
    "outputId": "dcdcc9d4-64ad-4af5-efc9-bde2aca709bd"
   },
   "outputs": [
    {
     "name": "stdout",
     "output_type": "stream",
     "text": [
      "Reading lines...\n",
      "['sprobujmy cos .', 'let s try something .']\n",
      "Read 59749 sentence pairs\n",
      "Trimmed to 59404 sentence pairs\n",
      "Counting words...\n",
      "Counted words:\n",
      "eng 29246\n",
      "pol 11953\n",
      "Przykładowe pary zdań:\n",
      "['uwazam ze tom jest twardy .', 'i think that tom is tough .']\n",
      "['mysle ze to jest w porzadku .', 'it may be all right .']\n",
      "['to moj pierwszy lot samolotem .', 'that was the first time i got on a plane .']\n"
     ]
    }
   ],
   "source": [
    "def prepareData(lang1, lang2, reverse=False):\n",
    "    input_lang, output_lang, pairs = readLangs(lang1, lang2, reverse)\n",
    "    print(pairs[0])\n",
    "    print(f\"Read {len(pairs)} sentence pairs\")\n",
    "    pairs = filterPairs(pairs)\n",
    "    print(f\"Trimmed to {len(pairs)} sentence pairs\")\n",
    "    print(\"Counting words...\")\n",
    "    for pair in pairs:\n",
    "        input_lang.addSentence(pair[0])\n",
    "        output_lang.addSentence(pair[1])\n",
    "    print(\"Counted words:\")\n",
    "    print(input_lang.name, input_lang.n_words)\n",
    "    print(output_lang.name, output_lang.n_words)\n",
    "    return input_lang, output_lang, pairs\n",
    "\n",
    "\n",
    "input_lang, output_lang, pairs = prepareData(\"pol\", \"eng\", True)\n",
    "print(\"Przykładowe pary zdań:\")\n",
    "for _ in range(3):\n",
    "    print(random.choice(pairs))"
   ]
  },
  {
   "cell_type": "markdown",
   "metadata": {
    "id": "AQc1t2ArshOa"
   },
   "source": [
    "Na koniec definiujemy jeszcze funkcje, które pozwolą nam zamienić zdania w tensory, które nasza sieć będzie w stanie zrozumieć."
   ]
  },
  {
   "cell_type": "code",
   "execution_count": 8,
   "metadata": {
    "id": "leinIgjGd7Kq"
   },
   "outputs": [],
   "source": [
    "def indexesFromSentence(lang, sentence):\n",
    "    return [lang.word2index[word] for word in sentence.split(\" \")]\n",
    "\n",
    "\n",
    "def tensorFromSentence(lang, sentence):\n",
    "    indexes = indexesFromSentence(lang, sentence)\n",
    "    indexes.append(EOS_token)\n",
    "    return torch.tensor(indexes, dtype=torch.long, device=device).view(-1)\n",
    "\n",
    "\n",
    "def tensorsFromPair(pair):\n",
    "    input_tensor = tensorFromSentence(input_lang, pair[0])\n",
    "    target_tensor = tensorFromSentence(output_lang, pair[1])\n",
    "    return (input_tensor, target_tensor)\n",
    "\n",
    "\n",
    "def pad_sequences(data_batch):\n",
    "    pl_batch, en_batch = [], []\n",
    "    for pl_sentence, en_sentence in data_batch:\n",
    "        pl_batch += [pl_sentence]\n",
    "        en_batch += [en_sentence]\n",
    "    pl_batch = pad_sequence(pl_batch, padding_value=PAD_token, batch_first=True)\n",
    "    en_batch = pad_sequence(en_batch, padding_value=PAD_token, batch_first=True)\n",
    "    return pl_batch, en_batch\n",
    "\n",
    "\n",
    "def prepare_dataset(batch_size):\n",
    "    rng = np.random.RandomState(567)\n",
    "    indices = np.arange(len(pairs))\n",
    "    rng.shuffle(indices)\n",
    "    train_indices = indices[: int(len(pairs) * 0.8)]\n",
    "    test_indices = indices[int(len(pairs) * 0.8) :]\n",
    "    train_pairs = list(pairs[idx] for idx in train_indices)\n",
    "    test_pairs = list(pairs[idx] for idx in test_indices)\n",
    "    tensor_train_pairs = [tensorsFromPair(pairs[idx]) for idx in train_indices]\n",
    "    tensor_test_pairs = [tensorsFromPair(pairs[idx]) for idx in test_indices]\n",
    "    reference_translation = test_pairs\n",
    "\n",
    "    # Output in natural language?\n",
    "\n",
    "    train_loader = DataLoader(\n",
    "        tensor_train_pairs,\n",
    "        batch_size=batch_size,\n",
    "        shuffle=True,\n",
    "        collate_fn=pad_sequences,\n",
    "    )\n",
    "    test_loader = DataLoader(\n",
    "        tensor_test_pairs, batch_size=batch_size, shuffle=True, collate_fn=pad_sequences\n",
    "    )\n",
    "    return train_pairs, test_pairs, train_loader, test_loader"
   ]
  },
  {
   "cell_type": "markdown",
   "metadata": {
    "id": "dxaO-7_LtPUk"
   },
   "source": [
    "## Funkcje pomocnicze i ewaluacyjne"
   ]
  },
  {
   "cell_type": "code",
   "execution_count": 9,
   "metadata": {
    "id": "04Zm6_MRd7Kq"
   },
   "outputs": [],
   "source": [
    "from mpl_toolkits.axes_grid1 import make_axes_locatable\n",
    "\n",
    "\n",
    "def predict(encoder, decoder, inputs, targets=None, max_len=MAX_LENGTH):\n",
    "    batch_size = inputs.size(0)\n",
    "\n",
    "    encoder_outputs, encoder_hidden = encoder(inputs)\n",
    "\n",
    "    decoder_input = torch.tensor([[SOS_token]] * batch_size, device=device)\n",
    "    decoder_hidden = encoder_hidden\n",
    "    decoder_output, decoder_attention = decoder(\n",
    "        decoder_input,\n",
    "        decoder_hidden,\n",
    "        targets=targets,\n",
    "        max_len=max_len,\n",
    "        encoder_outputs=encoder_outputs,\n",
    "    )\n",
    "    return decoder_output, decoder_attention\n",
    "\n",
    "\n",
    "def translate(encoder, decoder, sentence, show_attention=True):\n",
    "    inputs = tensorFromSentence(input_lang, sentence).unsqueeze(0).cuda()\n",
    "    decoder_output, decoder_attention = predict(encoder, decoder, inputs)\n",
    "\n",
    "    decoded_words = []\n",
    "    for word in decoder_output[0]:\n",
    "        top_word = word.argmax(-1).item()\n",
    "        decoded_words.append(output_lang.index2word[top_word])\n",
    "        if top_word == EOS_token:\n",
    "            break\n",
    "\n",
    "    if decoder_attention is not None and show_attention:\n",
    "        # [out_words, in_words]\n",
    "        att = decoder_attention.cpu().detach().numpy()\n",
    "        att = att[0, : len(decoded_words), :]\n",
    "        fig, ax = plt.subplots()\n",
    "\n",
    "        im = ax.imshow(att, vmin=0, vmax=1)\n",
    "        ax.xaxis.tick_top()\n",
    "        ax.set_xticklabels([\"\"] + sentence.split(\" \") + [\"EOS\"], rotation=90)\n",
    "        ax.set_yticklabels([\"\"] + decoded_words)\n",
    "        divider = make_axes_locatable(ax)\n",
    "        cax = divider.append_axes(\"right\", size=\"5%\", pad=0.05)\n",
    "\n",
    "        fig.colorbar(im, cax=cax, orientation=\"vertical\")\n",
    "\n",
    "        ax.tick_params(axis=\"both\", which=\"major\", labelsize=12)\n",
    "\n",
    "        ax.xaxis.set_major_locator(ticker.MultipleLocator(1))\n",
    "        ax.yaxis.set_major_locator(ticker.MultipleLocator(1))\n",
    "\n",
    "        plt.show()\n",
    "\n",
    "    return decoded_words\n",
    "\n",
    "\n",
    "def batch_translate(encoder, decoder, batch):\n",
    "    decoder_output, decoder_attention = predict(encoder, decoder, batch)\n",
    "\n",
    "    predicted_sentences = []\n",
    "\n",
    "    # TODO: potentially paralellize?\n",
    "    for batch_idx in range(len(batch)):\n",
    "        predicted_words = []\n",
    "        for word in decoder_output[batch_idx]:\n",
    "            top_word = word.argmax(-1).item()\n",
    "            if top_word == EOS_token:\n",
    "                break\n",
    "            predicted_words.append(output_lang.index2word[top_word])\n",
    "\n",
    "        predicted_sentences.append(predicted_words)\n",
    "\n",
    "    return predicted_sentences\n",
    "\n",
    "\n",
    "def dataset_translate(encoder, decoder, loader):\n",
    "    predicted_sentences = []\n",
    "    reference_sentences = []\n",
    "    for batch_in, batch_out in loader:\n",
    "        translated = batch_translate(encoder, decoder, batch_in)\n",
    "        predicted_sentences.extend(translated)\n",
    "\n",
    "        # TODO: move to a separate file?\n",
    "        reference_words = []\n",
    "        for sentence_idx, sentence in enumerate(batch_out):\n",
    "            decoded_sentence = []\n",
    "            for word in sentence:\n",
    "                if word.item() == EOS_token:\n",
    "                    break\n",
    "                decoded_sentence.append(output_lang.index2word[word.item()])\n",
    "            reference_sentences.append(decoded_sentence)\n",
    "\n",
    "    return predicted_sentences, reference_sentences\n",
    "\n",
    "\n",
    "def translate_randomly(encoder, decoder, pairs, n=10):\n",
    "    for i in range(n):\n",
    "        pair = random.choice(pairs)\n",
    "        print(\">\", pair[0])\n",
    "        print(\"=\", pair[1])\n",
    "        output_words = translate(encoder, decoder, pair[0])\n",
    "        output_sentence = \" \".join(output_words)\n",
    "        print(\"<\", output_sentence)\n",
    "        print(\"\")"
   ]
  },
  {
   "cell_type": "markdown",
   "metadata": {
    "id": "hKEO71h8_mvq"
   },
   "source": [
    "## Model Seq2Seq\n",
    "\n",
    "Poniżej definiujemy model Seq2Seq oraz pętlę treningową. W trakcie treningu będziemy wypisywać co jakiś czas przykładowe tłumaczenia wyprodukowane przez model."
   ]
  },
  {
   "cell_type": "code",
   "execution_count": 15,
   "metadata": {
    "id": "v2hJ24pEd7Kq"
   },
   "outputs": [],
   "source": [
    "def train(\n",
    "    encoder,\n",
    "    decoder,\n",
    "    lr=0.01,\n",
    "    batch_size=256,\n",
    "    teacher_forcing_ratio=0.5,\n",
    "    epochs_num=100,\n",
    "    clipping=1.0,\n",
    "):\n",
    "\n",
    "    # Prepare dataset, loss functions, optimizer\n",
    "    train_pairs, test_pairs, train_loader, test_loader = prepare_dataset(batch_size)\n",
    "\n",
    "    criterion = nn.CrossEntropyLoss(ignore_index=PAD_token)\n",
    "\n",
    "    encoder_optimizer = optim.Adam(encoder.parameters(), lr=lr)\n",
    "    decoder_optimizer = optim.Adam(decoder.parameters(), lr=lr)\n",
    "\n",
    "    encoder.cuda()\n",
    "    decoder.cuda()\n",
    "\n",
    "    bleus = []\n",
    "    train_losses = []\n",
    "\n",
    "    for epoch in range(epochs_num + 1):\n",
    "\n",
    "        # Training\n",
    "        epoch_train_loss = 0.0\n",
    "        for in_batch, out_batch in train_loader:\n",
    "            in_batch, out_batch = in_batch.cuda(), out_batch.cuda()\n",
    "\n",
    "            encoder_optimizer.zero_grad()\n",
    "            decoder_optimizer.zero_grad()\n",
    "\n",
    "            teacher_inputs = (\n",
    "                out_batch if random.random() < teacher_forcing_ratio else None\n",
    "            )\n",
    "\n",
    "            decoder_output, decoded_attention = predict(\n",
    "                encoder,\n",
    "                decoder,\n",
    "                in_batch,\n",
    "                targets=teacher_inputs,\n",
    "                max_len=out_batch.size(1),\n",
    "            )\n",
    "\n",
    "            loss = criterion(decoder_output.transpose(1, 2), out_batch)\n",
    "\n",
    "            loss.backward()\n",
    "\n",
    "            # Gradient clipping\n",
    "            nn.utils.clip_grad_norm_(encoder.parameters(), clipping)\n",
    "            nn.utils.clip_grad_norm_(decoder.parameters(), clipping)\n",
    "\n",
    "            encoder_optimizer.step()\n",
    "            decoder_optimizer.step()\n",
    "\n",
    "            epoch_train_loss += loss.item()\n",
    "\n",
    "        # Evaluation\n",
    "\n",
    "        pred_sentences, ref_sentences = dataset_translate(\n",
    "            encoder, decoder, test_loader\n",
    "        )\n",
    "        bleu_val = bleu_score(\n",
    "            pred_sentences, [[sentence] for sentence in ref_sentences]\n",
    "        )\n",
    "        bleus += [bleu_val]\n",
    "\n",
    "        mean_train_loss = epoch_train_loss / len(train_loader)\n",
    "        train_losses += [mean_train_loss]\n",
    "        if epoch % 25 == 0:\n",
    "            print(f\"Epoch: {epoch}. Train loss: {mean_train_loss}\")\n",
    "            print(\"=\" * 25, f\"BLEU: {bleu_val}\", \"=\" * 25)\n",
    "            with torch.no_grad():\n",
    "                print(\"=\" * 25, \"Translation test\", \"=\" * 25)\n",
    "                translate_randomly(encoder, decoder, test_pairs, n=5)\n",
    "    return bleus, train_losses, encoder, decoder"
   ]
  },
  {
   "cell_type": "code",
   "execution_count": 16,
   "metadata": {
    "id": "I6FSVbB0d7Kn"
   },
   "outputs": [],
   "source": [
    "class EncoderRNN(nn.Module):\n",
    "    def __init__(self, rnn_cell_class, vocab_size, embedding_size, hidden_size):\n",
    "        super(EncoderRNN, self).__init__()\n",
    "        self.hidden_size = hidden_size\n",
    "\n",
    "        self.embedding = nn.Embedding(vocab_size, embedding_size)\n",
    "        self.lstm = rnn_cell_class(embedding_size, hidden_size, batch_first=True)\n",
    "\n",
    "    def forward(self, input):\n",
    "        embedded = self.embedding(input)\n",
    "        output, hidden = self.lstm(embedded)\n",
    "        return output, hidden"
   ]
  },
  {
   "cell_type": "code",
   "execution_count": 17,
   "metadata": {
    "id": "MiBbM1IVd7Ko"
   },
   "outputs": [],
   "source": [
    "class DecoderRNN(nn.Module):\n",
    "    def __init__(self, rnn_cell_class, vocab_size, embedding_size, hidden_size):\n",
    "        super(DecoderRNN, self).__init__()\n",
    "        self.hidden_size = hidden_size\n",
    "\n",
    "        self.embedding = nn.Embedding(vocab_size, embedding_size)\n",
    "        self.lstm = rnn_cell_class(embedding_size, hidden_size, batch_first=True)\n",
    "        self.out = nn.Sequential(\n",
    "            nn.Linear(hidden_size, hidden_size),\n",
    "            nn.Tanh(),\n",
    "            nn.Linear(hidden_size, vocab_size),\n",
    "        )\n",
    "\n",
    "    def forward(self, input, hidden, targets=None, max_len=None, encoder_outputs=None):\n",
    "        if targets is not None:  # teacher forcing\n",
    "            input = torch.cat([input, targets[:, :-1]], 1)\n",
    "            input = self.embedding(input)\n",
    "            output, hidden = self.lstm(input, hidden)\n",
    "            output = self.out(output)\n",
    "\n",
    "        else:\n",
    "            outputs = []\n",
    "            for _ in range(max_len):\n",
    "                output = self.embedding(input)\n",
    "                output, hidden = self.lstm(output, hidden)\n",
    "                output = self.out(output)\n",
    "                outputs += [output]\n",
    "                input = output.argmax(-1).detach()\n",
    "            output = torch.cat(outputs, 1)\n",
    "        return output, None\n",
    "\n",
    "\n",
    "def train_model(rnn_cell_class, embedding_size, hidden_size, lr, clipping):\n",
    "\n",
    "    encoder = EncoderRNN(\n",
    "        rnn_cell_class, input_lang.n_words, embedding_size, hidden_size\n",
    "    ).to(device)\n",
    "    decoder = DecoderRNN(\n",
    "        rnn_cell_class, output_lang.n_words, embedding_size, hidden_size\n",
    "    ).to(device)\n",
    "\n",
    "    return train(encoder, decoder, lr=lr, epochs_num=200, clipping=clipping)"
   ]
  },
  {
   "cell_type": "markdown",
   "metadata": {},
   "source": [
    "Wytrenujemy kolejno modele LSTM oparte o RNN, GRU i LSTM."
   ]
  },
  {
   "cell_type": "code",
   "execution_count": null,
   "metadata": {
    "scrolled": true
   },
   "outputs": [],
   "source": [
    "results = {}\n",
    "results[\"LSTM\"] = train_model(nn.LSTM, 512, 1024, 5e-4, clipping=1.0)\n",
    "results[\"GRU\"] = train_model(nn.GRU, 512, 1024, 5e-4, clipping=1.0)\n",
    "results[\"RNN\"] = train_model(nn.RNN, 512, 1024, 5e-4, clipping=1.0)"
   ]
  },
  {
   "cell_type": "markdown",
   "metadata": {},
   "source": [
    "Po wytrenowaniu możemy zwizualizować jakość modeli."
   ]
  },
  {
   "cell_type": "code",
   "execution_count": 20,
   "metadata": {},
   "outputs": [
    {
     "data": {
      "image/png": "[encoded data removed]",
      "text/plain": [
       "<Figure size 1440x432 with 2 Axes>"
      ]
     },
     "metadata": {
      "needs_background": "light"
     },
     "output_type": "display_data"
    }
   ],
   "source": [
    "train_pairs, test_pairs, train_loader, test_loader = prepare_dataset(128)\n",
    "\n",
    "fig, axes = plt.subplots(1, 2, figsize=(20, 6))\n",
    "for key, item in results.items():\n",
    "    bleus, losses, enc, dec = item\n",
    "\n",
    "    # bleus, losses = result_dict[\"rnn_hs1024_es512_lr0.0001_bs256\"]\n",
    "    axes[0].plot(np.arange(201), bleus, label=key.upper())\n",
    "    axes[0].set_xlabel(\"Epoka\")\n",
    "    axes[0].set_ylabel(\"BLEU\")\n",
    "    axes[0].legend()\n",
    "    axes[1].plot(np.arange(201), losses)\n",
    "    axes[1].set_xlabel(\"Epoka\")\n",
    "    axes[1].set_ylabel(\"Koszt na zbiorze treningowym\")\n",
    "    # translate_randomly(enc, dec, test_pairs, n=25)"
   ]
  },
  {
   "cell_type": "markdown",
   "metadata": {
    "id": "crrwsvmgGHix"
   },
   "source": [
    "# Atencja w RNN-ach"
   ]
  },
  {
   "cell_type": "markdown",
   "metadata": {},
   "source": [
    "Zbudujemy teraz model Seq2Seq z mechanizmem atencji. W tym celu musimy zmienić tylko klasę reprezentującą dekoder."
   ]
  },
  {
   "cell_type": "code",
   "execution_count": 21,
   "metadata": {
    "id": "5bETuU9Hd7Kp"
   },
   "outputs": [],
   "source": [
    "class AttnDecoderRNN(nn.Module):\n",
    "    def __init__(self, rnn_cell_class, vocab_size, embedding_size, hidden_size):\n",
    "        super(AttnDecoderRNN, self).__init__()\n",
    "        self.hidden_size = hidden_size\n",
    "\n",
    "        self.embedding = nn.Embedding(vocab_size, embedding_size)\n",
    "\n",
    "        self.lstm = rnn_cell_class(\n",
    "            embedding_size + hidden_size, self.hidden_size, batch_first=True\n",
    "        )\n",
    "        self.out = nn.Sequential(\n",
    "            nn.Linear(hidden_size, hidden_size),\n",
    "            nn.Tanh(),\n",
    "            nn.Linear(hidden_size, vocab_size),\n",
    "        )\n",
    "\n",
    "        self.alignment = nn.Sequential(\n",
    "            nn.Linear(2 * hidden_size, hidden_size),\n",
    "            nn.Tanh(),\n",
    "            nn.Linear(hidden_size, 1),\n",
    "        )\n",
    "\n",
    "    def forward(self, input, hidden, targets=None, max_len=None, encoder_outputs=None):\n",
    "\n",
    "        seq_att_weights = []\n",
    "        outputs = []\n",
    "        for idx in range(max_len):\n",
    "            state = hidden[0] if isinstance(self.lstm, nn.LSTM) else hidden\n",
    "\n",
    "            attended_encoder, att_weights = self.apply_attention(state, encoder_outputs)\n",
    "            seq_att_weights += [att_weights]\n",
    "            embedded = self.embedding(input)\n",
    "            input = torch.cat([attended_encoder, embedded], dim=2)\n",
    "\n",
    "            output, hidden = self.lstm(input, hidden)\n",
    "            output = self.out(output)\n",
    "\n",
    "            outputs += [output]\n",
    "            if targets is not None:\n",
    "                input = targets[:, idx].unsqueeze(-1)\n",
    "            else:\n",
    "                input = output.argmax(-1).detach()\n",
    "        output = torch.cat(outputs, 1)\n",
    "        seq_att_weights = torch.stack(seq_att_weights, 1)\n",
    "\n",
    "        return output, seq_att_weights\n",
    "\n",
    "    def apply_attention(self, hidden, encoder_outputs):\n",
    "        hidden = hidden.transpose(0, 1).repeat(1, encoder_outputs.size(1), 1)\n",
    "        concated = torch.cat([hidden, encoder_outputs], dim=2)\n",
    "        alignments = self.alignment(concated)\n",
    "        attention_weights = torch.softmax(alignments.squeeze(2), -1)\n",
    "\n",
    "        attended_encoder = (encoder_outputs * attention_weights.unsqueeze(2)).sum(1)\n",
    "        return attended_encoder.unsqueeze(1), attention_weights"
   ]
  },
  {
   "cell_type": "code",
   "execution_count": null,
   "metadata": {
    "id": "mipeLXX9fx_7",
    "scrolled": true
   },
   "outputs": [],
   "source": [
    "def train_attention_model(rnn_cell_class, embedding_size, hidden_size, lr, clipping):\n",
    "    encoder = EncoderRNN(\n",
    "        rnn_cell_class, input_lang.n_words, embedding_size, hidden_size\n",
    "    ).to(device)\n",
    "    decoder = AttnDecoderRNN(\n",
    "        rnn_cell_class, output_lang.n_words, embedding_size, hidden_size\n",
    "    ).to(device)\n",
    "    return train(encoder, decoder, lr=lr, epochs_num=100, clipping=clipping)\n",
    "\n",
    "\n",
    "att_results = {}\n",
    "att_results[\"RNN\"] = train_attention_model(nn.RNN, 1024, 1024, lr=0.0005, clipping=0.1)\n",
    "att_results[\"GRU\"] = train_attention_model(nn.GRU, 512, 1024, lr=0.0005, clipping=0.1)\n",
    "att_results[\"LSTM\"] = train_attention_model(\n",
    "    nn.LSTM, 1024, 1024, lr=0.0005, clipping=0.1\n",
    ")"
   ]
  },
  {
   "cell_type": "markdown",
   "metadata": {},
   "source": [
    "Zwizualizujmy jakość poszczególnych modelów."
   ]
  },
  {
   "cell_type": "code",
   "execution_count": 24,
   "metadata": {},
   "outputs": [
    {
     "data": {
      "image/png": "[encoded data removed]",
      "text/plain": [
       "<Figure size 864x216 with 2 Axes>"
      ]
     },
     "metadata": {},
     "output_type": "display_data"
    }
   ],
   "source": [
    "sns.set_style(\"whitegrid\")\n",
    "fig, axes = plt.subplots(1, 2, figsize=(12, 3))\n",
    "\n",
    "for key, item in att_results.items():\n",
    "    bleus, losses, enc, dec = item\n",
    "\n",
    "    # bleus, losses = result_dict[\"rnn_hs1024_es512_lr0.0001_bs256\"]\n",
    "    axes[0].plot(np.arange(101), bleus, label=key)\n",
    "    axes[0].set_xlabel(\"Epoka\")\n",
    "    axes[0].set_ylabel(\"BLEU\")\n",
    "    axes[0].legend()\n",
    "    axes[1].plot(np.arange(101), losses)\n",
    "    axes[1].set_xlabel(\"Epoka\")\n",
    "    axes[1].set_ylabel(\"Koszt na zbiorze treningowym\")"
   ]
  }
 ],
 "metadata": {
  "accelerator": "GPU",
  "colab": {
   "collapsed_sections": [],
   "name": "12_seq2seq_SOLVED.ipynb",
   "provenance": [],
   "toc_visible": true
  },
  "kernelspec": {
   "display_name": "Python 3",
   "language": "python",
   "name": "python3"
  },
  "language_info": {
   "codemirror_mode": {
    "name": "ipython",
    "version": 3
   },
   "file_extension": ".py",
   "mimetype": "text/x-python",
   "name": "python",
   "nbconvert_exporter": "python",
   "pygments_lexer": "ipython3",
   "version": "3.7.7"
  }
 },
 "nbformat": 4,
 "nbformat_minor": 1
}
