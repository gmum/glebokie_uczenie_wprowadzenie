{
 "cells": [
  {
   "cell_type": "markdown",
   "metadata": {},
   "source": [
    "# Wczytujemy model\n",
    "Zaczynamy od wczytaniamodelu"
   ]
  },
  {
   "cell_type": "code",
   "execution_count": 17,
   "metadata": {},
   "outputs": [
    {
     "name": "stderr",
     "output_type": "stream",
     "text": [
      "2022-03-29 11:51:27,510 : INFO : loading projection weights from C:\\Users\\admin/gensim-data\\word2vec-google-news-300\\word2vec-google-news-300.gz\n",
      "2022-03-29 11:53:54,913 : INFO : loaded (3000000, 300) matrix from C:\\Users\\admin/gensim-data\\word2vec-google-news-300\\word2vec-google-news-300.gz\n"
     ]
    }
   ],
   "source": [
    "import gensim.downloader as api\n",
    "wv = api.load('word2vec-google-news-300')"
   ]
  },
  {
   "cell_type": "markdown",
   "metadata": {},
   "source": [
    "Przypisujemy zmiennym embedingi odpowiednich słów."
   ]
  },
  {
   "cell_type": "code",
   "execution_count": 18,
   "metadata": {},
   "outputs": [],
   "source": [
    "s1 = wv [\"king\"]\n",
    "s2 = wv [\"queen\"]\n",
    "s3 = wv [\"prince\"]\n",
    "s4 = wv [\"house\"]"
   ]
  },
  {
   "cell_type": "markdown",
   "metadata": {},
   "source": [
    "Liczymy odległości między słowami"
   ]
  },
  {
   "cell_type": "code",
   "execution_count": 19,
   "metadata": {},
   "outputs": [
    {
     "name": "stdout",
     "output_type": "stream",
     "text": [
      "king queen 0.3489043116569519\n",
      "king prince 0.38400059938430786\n",
      "king house 0.8767072185873985\n"
     ]
    }
   ],
   "source": [
    "from scipy.spatial import distance\n",
    "print(\"king\", \"queen\", distance.cosine(s1, s2))\n",
    "print(\"king\", \"prince\", distance.cosine(s1, s3))\n",
    "print(\"king\", \"house\", distance.cosine(s1, s4))"
   ]
  },
  {
   "cell_type": "code",
   "execution_count": null,
   "metadata": {},
   "outputs": [],
   "source": []
  }
 ],
 "metadata": {
  "kernelspec": {
   "display_name": "Python 3",
   "language": "python",
   "name": "python3"
  },
  "language_info": {
   "codemirror_mode": {
    "name": "ipython",
    "version": 3
   },
   "file_extension": ".py",
   "mimetype": "text/x-python",
   "name": "python",
   "nbconvert_exporter": "python",
   "pygments_lexer": "ipython3",
   "version": "3.7.6"
  }
 },
 "nbformat": 4,
 "nbformat_minor": 4
}
