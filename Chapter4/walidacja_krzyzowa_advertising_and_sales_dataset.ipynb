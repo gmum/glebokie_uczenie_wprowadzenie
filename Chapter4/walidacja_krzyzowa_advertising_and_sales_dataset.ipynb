{
 "cells": [
  {
   "cell_type": "code",
   "execution_count": 1,
   "metadata": {},
   "outputs": [],
   "source": [
    "import numpy as np\n",
    "import pandas as pd\n",
    "import matplotlib.pyplot as plt"
   ]
  },
  {
   "cell_type": "markdown",
   "metadata": {},
   "source": [
    "Wynik walidacji krzyżowej na zbiorze ,,Advertising and Sales''. Najpierw mamy ewaluację modeli wielomianowych na zbiorze walidacyjnym (optymalny stopień wielomianu to 3). Następnie pokazujemy porównanie wyników osiągniętych przez wszystkie modele dla zbioru treningowego i testowego, które potwierdzają zasadność walidacji krzyżowej."
   ]
  },
  {
   "cell_type": "code",
   "execution_count": 2,
   "metadata": {},
   "outputs": [
    {
     "data": {
      "text/html": [
       "<div>\n",
       "<style scoped>\n",
       "    .dataframe tbody tr th:only-of-type {\n",
       "        vertical-align: middle;\n",
       "    }\n",
       "\n",
       "    .dataframe tbody tr th {\n",
       "        vertical-align: top;\n",
       "    }\n",
       "\n",
       "    .dataframe thead th {\n",
       "        text-align: right;\n",
       "    }\n",
       "</style>\n",
       "<table border=\"1\" class=\"dataframe\">\n",
       "  <thead>\n",
       "    <tr style=\"text-align: right;\">\n",
       "      <th></th>\n",
       "      <th>TV</th>\n",
       "      <th>radio</th>\n",
       "      <th>newspaper</th>\n",
       "      <th>sales</th>\n",
       "    </tr>\n",
       "  </thead>\n",
       "  <tbody>\n",
       "    <tr>\n",
       "      <th>1</th>\n",
       "      <td>230.1</td>\n",
       "      <td>37.8</td>\n",
       "      <td>69.2</td>\n",
       "      <td>22.1</td>\n",
       "    </tr>\n",
       "    <tr>\n",
       "      <th>2</th>\n",
       "      <td>44.5</td>\n",
       "      <td>39.3</td>\n",
       "      <td>45.1</td>\n",
       "      <td>10.4</td>\n",
       "    </tr>\n",
       "    <tr>\n",
       "      <th>3</th>\n",
       "      <td>17.2</td>\n",
       "      <td>45.9</td>\n",
       "      <td>69.3</td>\n",
       "      <td>9.3</td>\n",
       "    </tr>\n",
       "    <tr>\n",
       "      <th>4</th>\n",
       "      <td>151.5</td>\n",
       "      <td>41.3</td>\n",
       "      <td>58.5</td>\n",
       "      <td>18.5</td>\n",
       "    </tr>\n",
       "    <tr>\n",
       "      <th>5</th>\n",
       "      <td>180.8</td>\n",
       "      <td>10.8</td>\n",
       "      <td>58.4</td>\n",
       "      <td>12.9</td>\n",
       "    </tr>\n",
       "  </tbody>\n",
       "</table>\n",
       "</div>"
      ],
      "text/plain": [
       "      TV  radio  newspaper  sales\n",
       "1  230.1   37.8       69.2   22.1\n",
       "2   44.5   39.3       45.1   10.4\n",
       "3   17.2   45.9       69.3    9.3\n",
       "4  151.5   41.3       58.5   18.5\n",
       "5  180.8   10.8       58.4   12.9"
      ]
     },
     "execution_count": 2,
     "metadata": {},
     "output_type": "execute_result"
    }
   ],
   "source": [
    "df_adv = pd.read_csv('Advertising.csv', index_col=0)\n",
    "df_adv.head()"
   ]
  },
  {
   "cell_type": "code",
   "execution_count": 3,
   "metadata": {},
   "outputs": [
    {
     "name": "stdout",
     "output_type": "stream",
     "text": [
      "(120, 2) (120,)\n",
      "(80, 2) (80,)\n"
     ]
    }
   ],
   "source": [
    "X = df_adv[['TV', 'radio']]\n",
    "y = df_adv['sales']\n",
    "\n",
    "from sklearn.model_selection import train_test_split\n",
    "X_train, X_test, y_train, y_test = train_test_split(X, y, test_size=0.4, random_state=0)\n",
    "\n",
    "print(X_train.shape, y_train.shape)\n",
    "print(X_test.shape, y_test.shape)"
   ]
  },
  {
   "cell_type": "code",
   "execution_count": 4,
   "metadata": {},
   "outputs": [],
   "source": [
    "from sklearn import linear_model\n",
    "from sklearn.pipeline import make_pipeline\n",
    "from sklearn.preprocessing import PolynomialFeatures\n",
    "\n",
    "models = []\n",
    "models.append(('Linear Regression', linear_model.LinearRegression()))\n",
    "models.append(('Polynomial Regression 2', make_pipeline(PolynomialFeatures(2), linear_model.LinearRegression()) ))\n",
    "models.append(('Polynomial Regression 3', make_pipeline(PolynomialFeatures(3), linear_model.LinearRegression()) ))\n",
    "models.append(('Polynomial Regression 4', make_pipeline(PolynomialFeatures(4), linear_model.LinearRegression()) ))\n",
    "models.append(('Polynomial Regression 5', make_pipeline(PolynomialFeatures(5), linear_model.LinearRegression()) ))\n",
    "models.append(('Polynomial Regression 6', make_pipeline(PolynomialFeatures(6), linear_model.LinearRegression()) ))\n",
    "models.append(('Polynomial Regression 7', make_pipeline(PolynomialFeatures(7), linear_model.LinearRegression()) ))\n",
    "models.append(('Polynomial Regression 8', make_pipeline(PolynomialFeatures(8), linear_model.LinearRegression()) ))\n",
    "models.append(('Polynomial Regression 9', make_pipeline(PolynomialFeatures(9), linear_model.LinearRegression()) ))\n",
    "models.append(('Polynomial Regression 10', make_pipeline(PolynomialFeatures(10), linear_model.LinearRegression()) ))\n",
    "# evaluate each model in turn\n",
    "\n"
   ]
  },
  {
   "cell_type": "code",
   "execution_count": 5,
   "metadata": {},
   "outputs": [
    {
     "name": "stdout",
     "output_type": "stream",
     "text": [
      "Linear Regression: 2.963188 (0.761390)\n",
      "Polynomial Regression 2: 0.295949 (0.163811)\n",
      "Polynomial Regression 3: 0.188904 (0.078104)\n",
      "Polynomial Regression 4: 0.171038 (0.057412)\n",
      "Polynomial Regression 5: 0.183667 (0.063298)\n",
      "Polynomial Regression 6: 0.190872 (0.063500)\n",
      "Polynomial Regression 7: 0.438068 (0.173345)\n",
      "Polynomial Regression 8: 1.256118 (1.060313)\n",
      "Polynomial Regression 9: 6.855046 (5.084610)\n",
      "Polynomial Regression 10: 5.208547 (3.937520)\n"
     ]
    }
   ],
   "source": [
    "from sklearn.model_selection import KFold, cross_val_score\n",
    "from sklearn.model_selection import cross_val_score\n",
    "kfold = KFold(n_splits=5)\n",
    "\n",
    "results = []\n",
    "names = []\n",
    "means = []\n",
    "\n",
    "for name, model in models:\n",
    "    cv_results = cross_val_score(model, X_train, y_train, cv=kfold,  scoring=\"neg_mean_squared_error\")\n",
    "    cv_results = -cv_results\n",
    "    results.append(cv_results)\n",
    "    names.append(name)\n",
    "    means.append(cv_results.mean())\n",
    "    msg = \"%s: %f (%f)\" % (name, cv_results.mean(), cv_results.std())\n",
    "    print(msg)"
   ]
  },
  {
   "cell_type": "code",
   "execution_count": 6,
   "metadata": {},
   "outputs": [
    {
     "data": {
      "image/png": "[encoded data removed]",
      "text/plain": [
       "<Figure size 720x360 with 1 Axes>"
      ]
     },
     "metadata": {
      "needs_background": "light"
     },
     "output_type": "display_data"
    }
   ],
   "source": [
    "fig, ax = plt.subplots(1, 1, figsize=(10,5))\n",
    "fig.suptitle('Comparison of polynomial regression models', fontsize=15)\n",
    "\n",
    "# mark the mean    \n",
    "plt.scatter(np.arange(1,11), means, c=\"k\")\n",
    "\n",
    "ax.boxplot(results)\n",
    "ax.set_ylabel('Mean Squared Error', fontsize=15)\n",
    "ax.set_xticklabels(names, rotation=45)\n",
    "plt.show()"
   ]
  },
  {
   "cell_type": "code",
   "execution_count": 7,
   "metadata": {},
   "outputs": [
    {
     "name": "stdout",
     "output_type": "stream",
     "text": [
      "{'polynomialfeatures__degree': 4}\n",
      "Pipeline(steps=[('polynomialfeatures', PolynomialFeatures(degree=4)),\n",
      "                ('linearregression', LinearRegression())])\n"
     ]
    }
   ],
   "source": [
    "from sklearn.model_selection import GridSearchCV\n",
    "grid = GridSearchCV(make_pipeline(PolynomialFeatures(degree=2), linear_model.LinearRegression()),\n",
    "                    param_grid={'polynomialfeatures__degree': [1, 2, 3, 4, 5, 6, 7, 8, 9, 10]},\n",
    "                    cv=kfold,\n",
    "                    refit=True,  scoring=\"neg_mean_squared_error\")\n",
    "#make_pipeline(PolynomialFeatures(degree=2), linear_model.LinearRegression()).get_params().keys()\n",
    "grid.fit(X_train, y_train)\n",
    "print(grid.best_params_)\n",
    "print(grid.best_estimator_)"
   ]
  },
  {
   "cell_type": "code",
   "execution_count": 8,
   "metadata": {},
   "outputs": [],
   "source": [
    "from sklearn import  metrics\n",
    "r2_train = metrics.r2_score(y_true=y_train, y_pred=grid.best_estimator_.predict(X_train))\n",
    "r2_test = metrics.r2_score(y_true=y_test, y_pred=grid.best_estimator_.predict(X_test))"
   ]
  },
  {
   "cell_type": "code",
   "execution_count": 9,
   "metadata": {},
   "outputs": [
    {
     "name": "stdout",
     "output_type": "stream",
     "text": [
      "0.9959429046559244\n",
      "0.9866290227891092\n"
     ]
    }
   ],
   "source": [
    "print(r2_train)\n",
    "print(r2_test)"
   ]
  },
  {
   "cell_type": "code",
   "execution_count": 10,
   "metadata": {},
   "outputs": [],
   "source": [
    "from sklearn.metrics import mean_squared_error, r2_score\n",
    "\n",
    "score_train = []\n",
    "score_test = []\n",
    "for name, model in models:\n",
    "    model.fit(X_train, y_train)\n",
    "    score_train.append(mean_squared_error(y_true=y_train, y_pred=model.predict(X_train)))\n",
    "    score_test.append(mean_squared_error(y_true=y_test, y_pred=model.predict(X_test)))\n",
    "    "
   ]
  },
  {
   "cell_type": "code",
   "execution_count": 11,
   "metadata": {},
   "outputs": [
    {
     "data": {
      "image/png": "[encoded data removed]",
      "text/plain": [
       "<Figure size 720x360 with 1 Axes>"
      ]
     },
     "metadata": {
      "needs_background": "light"
     },
     "output_type": "display_data"
    }
   ],
   "source": [
    "x = np.arange(len(names))  \n",
    "width = 0.35  \n",
    "\n",
    "fig, ax = plt.subplots(1, 1, figsize=(10,5))\n",
    "fig.suptitle('Comparison of polynomial regression models', fontsize=15)\n",
    "rects1 = ax.bar(x - width/2, score_train, width, label='Mean squared error on train data')\n",
    "rects2 = ax.bar(x + width/2, score_test, width, label='Mean squared error test data')\n",
    "\n",
    "ax.set_ylabel('Mean Squared Error', fontsize=15)\n",
    "ax.set_xticks(x)\n",
    "ax.set_xticklabels(names, rotation=45)\n",
    "ax.legend(fontsize=15)\n",
    "\n",
    "fig.tight_layout()\n",
    "\n",
    "plt.show()"
   ]
  },
  {
   "cell_type": "code",
   "execution_count": null,
   "metadata": {},
   "outputs": [],
   "source": []
  },
  {
   "cell_type": "code",
   "execution_count": null,
   "metadata": {},
   "outputs": [],
   "source": []
  }
 ],
 "metadata": {
  "kernelspec": {
   "display_name": "Python 3",
   "language": "python",
   "name": "python3"
  },
  "language_info": {
   "codemirror_mode": {
    "name": "ipython",
    "version": 3
   },
   "file_extension": ".py",
   "mimetype": "text/x-python",
   "name": "python",
   "nbconvert_exporter": "python",
   "pygments_lexer": "ipython3",
   "version": "3.8.5"
  }
 },
 "nbformat": 4,
 "nbformat_minor": 2
}
