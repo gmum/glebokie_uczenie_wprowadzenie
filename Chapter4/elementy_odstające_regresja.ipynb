{
 "cells": [
  {
   "cell_type": "code",
   "execution_count": 1,
   "metadata": {},
   "outputs": [],
   "source": [
    "import numpy as np\n",
    "import pandas as pd\n",
    "import matplotlib.pyplot as plt"
   ]
  },
  {
   "cell_type": "markdown",
   "metadata": {},
   "source": [
    "Bezpośrednio zminimalizować funkcję kosztu regresji liniowej"
   ]
  },
  {
   "cell_type": "code",
   "execution_count": 2,
   "metadata": {},
   "outputs": [],
   "source": [
    "data_str = '''Region Alcohol Tobacco\n",
    "North 6.47 4.03\n",
    "Yorkshire 6.13 3.76\n",
    "Northeast 6.19 3.77\n",
    "East_Midlands 4.89 3.34\n",
    "West_Midlands 5.63 3.47\n",
    "East_Anglia 4.52 2.92\n",
    "Southeast 5.89 3.20\n",
    "Southwest 4.79 2.71\n",
    "Wales 5.27 3.53\n",
    "Scotland 6.08 4.51\n",
    "Northern_Ireland 4.02 4.56'''"
   ]
  },
  {
   "cell_type": "code",
   "execution_count": 3,
   "metadata": {},
   "outputs": [
    {
     "data": {
      "text/html": [
       "<div>\n",
       "<style scoped>\n",
       "    .dataframe tbody tr th:only-of-type {\n",
       "        vertical-align: middle;\n",
       "    }\n",
       "\n",
       "    .dataframe tbody tr th {\n",
       "        vertical-align: top;\n",
       "    }\n",
       "\n",
       "    .dataframe thead th {\n",
       "        text-align: right;\n",
       "    }\n",
       "</style>\n",
       "<table border=\"1\" class=\"dataframe\">\n",
       "  <thead>\n",
       "    <tr style=\"text-align: right;\">\n",
       "      <th></th>\n",
       "      <th>Region</th>\n",
       "      <th>Alcohol</th>\n",
       "      <th>Tobacco</th>\n",
       "    </tr>\n",
       "  </thead>\n",
       "  <tbody>\n",
       "    <tr>\n",
       "      <th>0</th>\n",
       "      <td>North</td>\n",
       "      <td>6.47</td>\n",
       "      <td>4.03</td>\n",
       "    </tr>\n",
       "    <tr>\n",
       "      <th>1</th>\n",
       "      <td>Yorkshire</td>\n",
       "      <td>6.13</td>\n",
       "      <td>3.76</td>\n",
       "    </tr>\n",
       "    <tr>\n",
       "      <th>2</th>\n",
       "      <td>Northeast</td>\n",
       "      <td>6.19</td>\n",
       "      <td>3.77</td>\n",
       "    </tr>\n",
       "    <tr>\n",
       "      <th>3</th>\n",
       "      <td>East_Midlands</td>\n",
       "      <td>4.89</td>\n",
       "      <td>3.34</td>\n",
       "    </tr>\n",
       "    <tr>\n",
       "      <th>4</th>\n",
       "      <td>West_Midlands</td>\n",
       "      <td>5.63</td>\n",
       "      <td>3.47</td>\n",
       "    </tr>\n",
       "    <tr>\n",
       "      <th>5</th>\n",
       "      <td>East_Anglia</td>\n",
       "      <td>4.52</td>\n",
       "      <td>2.92</td>\n",
       "    </tr>\n",
       "    <tr>\n",
       "      <th>6</th>\n",
       "      <td>Southeast</td>\n",
       "      <td>5.89</td>\n",
       "      <td>3.20</td>\n",
       "    </tr>\n",
       "    <tr>\n",
       "      <th>7</th>\n",
       "      <td>Southwest</td>\n",
       "      <td>4.79</td>\n",
       "      <td>2.71</td>\n",
       "    </tr>\n",
       "    <tr>\n",
       "      <th>8</th>\n",
       "      <td>Wales</td>\n",
       "      <td>5.27</td>\n",
       "      <td>3.53</td>\n",
       "    </tr>\n",
       "    <tr>\n",
       "      <th>9</th>\n",
       "      <td>Scotland</td>\n",
       "      <td>6.08</td>\n",
       "      <td>4.51</td>\n",
       "    </tr>\n",
       "    <tr>\n",
       "      <th>10</th>\n",
       "      <td>Northern_Ireland</td>\n",
       "      <td>4.02</td>\n",
       "      <td>4.56</td>\n",
       "    </tr>\n",
       "  </tbody>\n",
       "</table>\n",
       "</div>"
      ],
      "text/plain": [
       "              Region  Alcohol  Tobacco\n",
       "0              North     6.47     4.03\n",
       "1          Yorkshire     6.13     3.76\n",
       "2          Northeast     6.19     3.77\n",
       "3      East_Midlands     4.89     3.34\n",
       "4      West_Midlands     5.63     3.47\n",
       "5        East_Anglia     4.52     2.92\n",
       "6          Southeast     5.89     3.20\n",
       "7          Southwest     4.79     2.71\n",
       "8              Wales     5.27     3.53\n",
       "9           Scotland     6.08     4.51\n",
       "10  Northern_Ireland     4.02     4.56"
      ]
     },
     "execution_count": 3,
     "metadata": {},
     "output_type": "execute_result"
    }
   ],
   "source": [
    "from io import StringIO\n",
    "df = pd.read_csv(StringIO(data_str), sep=r'\\s+')\n",
    "df.head(11)"
   ]
  },
  {
   "cell_type": "code",
   "execution_count": 4,
   "metadata": {},
   "outputs": [],
   "source": [
    "X = df.Tobacco\n",
    "y = df.Alcohol"
   ]
  },
  {
   "cell_type": "markdown",
   "metadata": {},
   "source": [
    "Zdafiniuj funkcję opisującą błąd kwadratowy:\n",
    "\n",
    "$$\n",
    "\\mathrm{error\\_MSE}(a,b;(x,y)) =  \\sum_{i=1}^{n} ( y_i - (ax_i+b) )^2.\n",
    "$$"
   ]
  },
  {
   "cell_type": "code",
   "execution_count": 5,
   "metadata": {},
   "outputs": [],
   "source": [
    "def error_MSE(arg, *args):\n",
    "    X, y = args[0], args[1]    \n",
    "    a, b = arg\n",
    "    return np.sum((y-(a*X+b))**2)"
   ]
  },
  {
   "cell_type": "markdown",
   "metadata": {},
   "source": [
    "Zdafiniuj funkcję opisującą błąd basolutny:\n",
    "\n",
    "$$\n",
    "\\mathrm{error\\_MAE}(a,b;(x,y)) =  \\sum_{i=1}^{n} |y_i - (ax_i+b)|.\n",
    "$$"
   ]
  },
  {
   "cell_type": "code",
   "execution_count": 6,
   "metadata": {},
   "outputs": [],
   "source": [
    "def error_MAE(arg, *args):\n",
    "    X, y = args[0], args[1]\n",
    "    a, b = arg\n",
    "    return np.sum(np.abs(y-(a*X+b)))"
   ]
  },
  {
   "cell_type": "code",
   "execution_count": 7,
   "metadata": {},
   "outputs": [
    {
     "name": "stdout",
     "output_type": "stream",
     "text": [
      "Optimization terminated successfully.\n",
      "         Current function value: 1.591473\n",
      "         Iterations: 2\n",
      "         Function evaluations: 15\n",
      "         Gradient evaluations: 5\n",
      "[1.00588846 2.04124954]\n",
      "Warning: Desired error not necessarily achieved due to precision loss.\n",
      "         Current function value: 3.470087\n",
      "         Iterations: 4\n",
      "         Function evaluations: 479\n",
      "         Gradient evaluations: 158\n",
      "[1.30028942 1.22801907]\n"
     ]
    }
   ],
   "source": [
    "from scipy import optimize\n",
    "\n",
    "x0 = np.asarray((1, 1))\n",
    "min_value_MSE = optimize.fmin_cg(error_MSE, x0, args=(X[:-1], y[:-1])) \n",
    "print(min_value_MSE)\n",
    "\n",
    "min_value_MAE = optimize.fmin_cg(error_MAE, x0, args = (X[:-1],y[:-1]))\n",
    "print(min_value_MAE)"
   ]
  },
  {
   "cell_type": "markdown",
   "metadata": {},
   "source": [
    "Jak widać otrzymujemy podobne rozwiązania."
   ]
  },
  {
   "cell_type": "code",
   "execution_count": 8,
   "metadata": {},
   "outputs": [
    {
     "data": {
      "image/png": "[encoded data removed]",
      "text/plain": [
       "<Figure size 720x360 with 1 Axes>"
      ]
     },
     "metadata": {
      "needs_background": "light"
     },
     "output_type": "display_data"
    }
   ],
   "source": [
    "x_f_lr = np.linspace(1., 5., 200)\n",
    "f_lr_MSE = lambda x: min_value_MSE[0] * x + min_value_MSE[1]\n",
    "y_f_lr_MSE = f_lr_MSE(x_f_lr)\n",
    "\n",
    "f_lr_MAE = lambda x: min_value_MAE[0] * x + min_value_MAE[1]\n",
    "y_f_lr_MAE = f_lr_MAE(x_f_lr)\n",
    "\n",
    "fig, ax = plt.subplots(1, 1, figsize=(10,5))\n",
    "ax.set_xlabel('Tobacco', fontsize=15)\n",
    "ax.set_ylabel('Alcohol', fontsize=15)\n",
    "ax.set_title('Sales in Several UK Regions', fontsize=15)\n",
    "ax.set_xlim([2.5, 4.7])\n",
    "ax.set_ylim([3.8, 6.7])\n",
    "ax.plot(x_f_lr, y_f_lr_MSE, 'g', label='$\\sum (\\hat f(x) - y)^2$')\n",
    "ax.plot(x_f_lr, y_f_lr_MAE, 'b', label='$\\sum |\\hat f(x) - y|$')\n",
    "# ax.plot(x_f_lr, y_f_lr, 'g');\n",
    "ax.plot(X[:-1] ,y[:-1],'o', ms=8)\n",
    "plt.legend(fontsize=15)\n",
    "plt.show()"
   ]
  },
  {
   "cell_type": "markdown",
   "metadata": {},
   "source": [
    "Natomiast gdy wykorzystamy dane posiadające element odstający to można zauważyć, ze takie podejście jest bardziej odporne na elementy odstające. "
   ]
  },
  {
   "cell_type": "code",
   "execution_count": 9,
   "metadata": {},
   "outputs": [
    {
     "name": "stdout",
     "output_type": "stream",
     "text": [
      "Optimization terminated successfully.\n",
      "         Current function value: 6.046141\n",
      "         Iterations: 2\n",
      "         Function evaluations: 15\n",
      "         Gradient evaluations: 5\n",
      "[0.30193498 4.35118097]\n",
      "Warning: Desired error not necessarily achieved due to precision loss.\n",
      "         Current function value: 6.737737\n",
      "         Iterations: 1\n",
      "         Function evaluations: 134\n",
      "         Gradient evaluations: 43\n",
      "[1.21162596 1.06208063]\n"
     ]
    }
   ],
   "source": [
    "from scipy import optimize\n",
    "\n",
    "x0 = np.asarray((1, 1))\n",
    "min_value_MSE = optimize.fmin_cg(error_MSE, x0, args=(X, y)) \n",
    "print(min_value_MSE)\n",
    "\n",
    "min_value_MAE = optimize.fmin_cg(error_MAE, x0, args = (X,y))\n",
    "print(min_value_MAE)"
   ]
  },
  {
   "cell_type": "code",
   "execution_count": 10,
   "metadata": {},
   "outputs": [
    {
     "data": {
      "image/png": "[encoded data removed]",
      "text/plain": [
       "<Figure size 720x360 with 1 Axes>"
      ]
     },
     "metadata": {
      "needs_background": "light"
     },
     "output_type": "display_data"
    }
   ],
   "source": [
    "x_f_lr = np.linspace(1., 5., 200)\n",
    "f_lr_MSE = lambda x: min_value_MSE[0] * x + min_value_MSE[1]\n",
    "y_f_lr_MSE = f_lr_MSE(x_f_lr)\n",
    "\n",
    "f_lr_MAE = lambda x: min_value_MAE[0] * x + min_value_MAE[1]\n",
    "y_f_lr_MAE = f_lr_MAE(x_f_lr)\n",
    "\n",
    "fig, ax = plt.subplots(1, 1, figsize=(10,5))\n",
    "ax.set_xlabel('Tobacco', fontsize=15)\n",
    "ax.set_ylabel('Alcohol', fontsize=15)\n",
    "ax.set_title('Sales in Several UK Regions', fontsize=15)\n",
    "ax.set_xlim([2.5, 4.7])\n",
    "ax.set_ylim([3.8, 6.7])\n",
    "ax.plot(x_f_lr, y_f_lr_MSE, 'g', label='$\\sum (\\hat f(x) - y)^2$')\n",
    "ax.plot(x_f_lr, y_f_lr_MAE, 'b', label='$\\sum |\\hat f(x) - y|$')\n",
    "# ax.plot(x_f_lr, y_f_lr, 'g');\n",
    "ax.plot(X ,y,'o', ms=8)\n",
    "plt.legend(fontsize=15)\n",
    "plt.show()"
   ]
  },
  {
   "cell_type": "code",
   "execution_count": null,
   "metadata": {},
   "outputs": [],
   "source": []
  },
  {
   "cell_type": "code",
   "execution_count": null,
   "metadata": {},
   "outputs": [],
   "source": []
  }
 ],
 "metadata": {
  "kernelspec": {
   "display_name": "Python 3",
   "language": "python",
   "name": "python3"
  },
  "language_info": {
   "codemirror_mode": {
    "name": "ipython",
    "version": 3
   },
   "file_extension": ".py",
   "mimetype": "text/x-python",
   "name": "python",
   "nbconvert_exporter": "python",
   "pygments_lexer": "ipython3",
   "version": "3.8.5"
  }
 },
 "nbformat": 4,
 "nbformat_minor": 2
}
