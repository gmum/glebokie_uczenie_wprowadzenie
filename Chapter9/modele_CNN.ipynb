{
 "cells": [
  {
   "cell_type": "markdown",
   "metadata": {},
   "source": [
    "# 9.4 Wybrane architektury CNN\n",
    "\n",
    "W tym skrypcie znajdziemy wyniki eksperymentów opisanych w rozdziale 9.4 ,,Wybrane architektury CNN''.\n",
    "\n",
    "\n",
    "Poniżej importujemy niezbędne moduły i definujemy klasę ,,*AverageMeter*'', która przechowuje oraz przetwarza częściowe wyniki zapisywane w poszczegółnych etapach uczenia modelu. Funkcja ,,*accuracy*'' liczy dokładność sieci w procesie uczenia lub jej walidacji."
   ]
  },
  {
   "cell_type": "code",
   "execution_count": 1,
   "metadata": {},
   "outputs": [],
   "source": [
    "import numpy as np\n",
    "import torch\n",
    "import torchvision.transforms as transforms\n",
    "import torchvision.datasets as datasets\n",
    "import torchvision.models as models\n",
    "import torch.backends.cudnn as cudnn\n",
    "from tqdm.notebook import tqdm\n",
    "\n",
    "\n",
    "class AverageMeter:\n",
    "    def __init__(self):\n",
    "        self.reset()\n",
    "\n",
    "    def reset(self):\n",
    "        self.val = 0\n",
    "        self.avg = 0\n",
    "        self.sum = 0\n",
    "        self.count = 0\n",
    "\n",
    "    def update(self, val, n=1):\n",
    "        self.val = val\n",
    "        self.sum = self.sum + val * n\n",
    "        self.count = self.count + n\n",
    "        self.avg = self.sum / self.count\n",
    "\n",
    "\n",
    "def accuracy(output, target, topk=[1]):\n",
    "    max_k = np.max(topk)\n",
    "    batch_size = target.shape[0]\n",
    "\n",
    "    _, pred = output.topk(max_k, 1, True, True)\n",
    "    pred = pred.t()\n",
    "    correct = pred.eq(target.view(1, -1).expand_as(pred))\n",
    "\n",
    "    results = []\n",
    "    for k in topk:\n",
    "        correct_k = correct[:k].reshape(-1).float().sum(0)\n",
    "        results.append(correct_k.mul_(100.0 / batch_size))\n",
    "    return results"
   ]
  },
  {
   "cell_type": "markdown",
   "metadata": {},
   "source": [
    "# Testowanie pre-trenowanych modeli CNN na zbiorze ImageNet\n",
    "\n",
    "Poniżej przygotowujemy zbiór danych do walidacji wcześniej wyuczonych modeli CNN. Przetwarzamy obrazki ze zbioru *ImageNet* do tensorów, które są pobierane iteracyjnie w batchach podczas trenowania sieci (zmienna: ,,*val_loader*'')."
   ]
  },
  {
   "cell_type": "code",
   "execution_count": 2,
   "metadata": {},
   "outputs": [],
   "source": [
    "# Data loading\n",
    "valdir = \"/datasets/ImageNet/val\"\n",
    "val_loader = torch.utils.data.DataLoader(\n",
    "    datasets.ImageFolder(\n",
    "        valdir,\n",
    "        transforms.Compose(\n",
    "            [\n",
    "                transforms.Resize(256),\n",
    "                transforms.CenterCrop(224),\n",
    "                transforms.ToTensor(),\n",
    "                transforms.Normalize(\n",
    "                    mean=[0.485, 0.456, 0.406], std=[0.229, 0.224, 0.225]\n",
    "                ),\n",
    "            ]\n",
    "        ),\n",
    "    ),\n",
    "    batch_size=100,\n",
    "    shuffle=False,\n",
    "    num_workers=4,\n",
    "    pin_memory=False,\n",
    ")\n",
    "\n",
    "device = torch.device(\"cuda\" if torch.cuda.is_available() else \"cpu\")\n",
    "total_pred = {}"
   ]
  },
  {
   "cell_type": "markdown",
   "metadata": {},
   "source": [
    "Poniżej przedstawiamy sposób importowania wybranych pretrenowanych modeli CNN i ich walidację na zbiorze *ImageNet*."
   ]
  },
  {
   "cell_type": "markdown",
   "metadata": {},
   "source": [
    "# AlexNet"
   ]
  },
  {
   "cell_type": "code",
   "execution_count": null,
   "metadata": {},
   "outputs": [],
   "source": [
    "model = models.alexnet(pretrained=True)\n",
    "model.eval()\n",
    "model = model.to(device)\n",
    "\n",
    "top1 = AverageMeter()\n",
    "top5 = AverageMeter()\n",
    "\n",
    "with torch.no_grad():\n",
    "    eval_tqdm = tqdm(val_loader, total=len(val_loader), leave=False)\n",
    "    for data, target in eval_tqdm:\n",
    "        data, target = data.to(device), target.to(device)\n",
    "\n",
    "        output = model(data)\n",
    "\n",
    "        prec1, prec5 = accuracy(output.data, target, topk=(1, 5))\n",
    "        top1.update(prec1.item(), data.shape[0])\n",
    "        top5.update(prec5.item(), data.shape[0])\n",
    "\n",
    "        eval_tqdm.set_description(\n",
    "            f\"Prec@1: {top1.val:2.2f} ({top1.avg:2.2f}); \"\n",
    "            f\"Prec@5: {top5.val:2.2f} ({top5.avg:2.2f})\"\n",
    "        )\n",
    "\n",
    "print(f\" * Prec@1 {top1.avg:.3f} Prec@5 {top5.avg:.3f}\")\n",
    "total_pred[\"AlexNet\"] = {\"Prec@1\": top1.avg, \"Prec@5\": top5.avg}"
   ]
  },
  {
   "cell_type": "markdown",
   "metadata": {},
   "source": [
    "# VGG19"
   ]
  },
  {
   "cell_type": "code",
   "execution_count": null,
   "metadata": {},
   "outputs": [],
   "source": [
    "model = models.vgg19(pretrained=True)\n",
    "model.eval()\n",
    "model = model.to(device)\n",
    "\n",
    "top1 = AverageMeter()\n",
    "top5 = AverageMeter()\n",
    "\n",
    "with torch.no_grad():\n",
    "    eval_tqdm = tqdm(val_loader, total=len(val_loader), leave=False)\n",
    "    for data, target in eval_tqdm:\n",
    "        data, target = data.to(device), target.to(device)\n",
    "\n",
    "        output = model(data)\n",
    "\n",
    "        prec1, prec5 = accuracy(output.data, target, topk=(1, 5))\n",
    "        top1.update(prec1.item(), data.shape[0])\n",
    "        top5.update(prec5.item(), data.shape[0])\n",
    "\n",
    "        eval_tqdm.set_description(\n",
    "            f\"Prec@1: {top1.val:2.2f} ({top1.avg:2.2f}); \"\n",
    "            f\"Prec@5: {top5.val:2.2f} ({top5.avg:2.2f})\"\n",
    "        )\n",
    "\n",
    "print(f\" * Prec@1 {top1.avg:.3f} Prec@5 {top5.avg:.3f}\")\n",
    "total_pred[\"VGG19\"] = {\"Prec@1\": top1.avg, \"Prec@5\": top5.avg}"
   ]
  },
  {
   "cell_type": "markdown",
   "metadata": {},
   "source": [
    "# ResNet-50"
   ]
  },
  {
   "cell_type": "code",
   "execution_count": null,
   "metadata": {},
   "outputs": [],
   "source": [
    "model = models.resnet50(pretrained=True)\n",
    "model.eval()\n",
    "model = model.to(device)\n",
    "\n",
    "top1 = AverageMeter()\n",
    "top5 = AverageMeter()\n",
    "\n",
    "with torch.no_grad():\n",
    "    eval_tqdm = tqdm(val_loader, total=len(val_loader), leave=False)\n",
    "    for data, target in eval_tqdm:\n",
    "        data, target = data.to(device), target.to(device)\n",
    "\n",
    "        output = model(data)\n",
    "\n",
    "        prec1, prec5 = accuracy(output.data, target, topk=(1, 5))\n",
    "        top1.update(prec1.item(), data.shape[0])\n",
    "        top5.update(prec5.item(), data.shape[0])\n",
    "\n",
    "        eval_tqdm.set_description(\n",
    "            f\"Prec@1: {top1.val:2.2f} ({top1.avg:2.2f}); \"\n",
    "            f\"Prec@5: {top5.val:2.2f} ({top5.avg:2.2f})\"\n",
    "        )\n",
    "\n",
    "print(f\" * Prec@1 {top1.avg:.3f} Prec@5 {top5.avg:.3f}\")\n",
    "total_pred[\"ResNet-50\"] = {\"Prec@1\": top1.avg, \"Prec@5\": top5.avg}"
   ]
  },
  {
   "cell_type": "markdown",
   "metadata": {},
   "source": [
    "# Inception_v3"
   ]
  },
  {
   "cell_type": "code",
   "execution_count": null,
   "metadata": {},
   "outputs": [],
   "source": [
    "model = models.inception_v3(pretrained=True)\n",
    "model.eval()\n",
    "model = model.to(device)\n",
    "\n",
    "top1 = AverageMeter()\n",
    "top5 = AverageMeter()\n",
    "\n",
    "with torch.no_grad():\n",
    "    eval_tqdm = tqdm(val_loader, total=len(val_loader), leave=False)\n",
    "    for data, target in eval_tqdm:\n",
    "        data, target = data.to(device), target.to(device)\n",
    "\n",
    "        output = model(data)\n",
    "\n",
    "        prec1, prec5 = accuracy(output.data, target, topk=(1, 5))\n",
    "        top1.update(prec1.item(), data.shape[0])\n",
    "        top5.update(prec5.item(), data.shape[0])\n",
    "\n",
    "        eval_tqdm.set_description(\n",
    "            f\"Prec@1: {top1.val:2.2f} ({top1.avg:2.2f}); \"\n",
    "            f\"Prec@5: {top5.val:2.2f} ({top5.avg:2.2f})\"\n",
    "        )\n",
    "\n",
    "print(f\" * Prec@1 {top1.avg:.3f} Prec@5 {top5.avg:.3f}\")\n",
    "total_pred[\"Inception_v3\"] = {\"Prec@1\": top1.avg, \"Prec@5\": top5.avg}"
   ]
  },
  {
   "cell_type": "markdown",
   "metadata": {},
   "source": [
    "# Wide_ResNet-50-2"
   ]
  },
  {
   "cell_type": "code",
   "execution_count": null,
   "metadata": {},
   "outputs": [],
   "source": [
    "model = models.wide_resnet50_2(pretrained=True)\n",
    "model.eval()\n",
    "model = model.to(device)\n",
    "\n",
    "top1 = AverageMeter()\n",
    "top5 = AverageMeter()\n",
    "\n",
    "with torch.no_grad():\n",
    "    eval_tqdm = tqdm(val_loader, total=len(val_loader), leave=False)\n",
    "    for data, target in eval_tqdm:\n",
    "        data, target = data.to(device), target.to(device)\n",
    "\n",
    "        output = model(data)\n",
    "\n",
    "        prec1, prec5 = accuracy(output.data, target, topk=(1, 5))\n",
    "        top1.update(prec1.item(), data.shape[0])\n",
    "        top5.update(prec5.item(), data.shape[0])\n",
    "\n",
    "        eval_tqdm.set_description(\n",
    "            f\"Prec@1: {top1.val:2.2f} ({top1.avg:2.2f}); \"\n",
    "            f\"Prec@5: {top5.val:2.2f} ({top5.avg:2.2f})\"\n",
    "        )\n",
    "\n",
    "print(f\" * Prec@1 {top1.avg:.3f} Prec@5 {top5.avg:.3f}\")\n",
    "total_pred[\"Wide_ResNet-50-2\"] = {\"Prec@1\": top1.avg, \"Prec@5\": top5.avg}"
   ]
  },
  {
   "cell_type": "markdown",
   "metadata": {},
   "source": [
    "# DenseNet 161"
   ]
  },
  {
   "cell_type": "code",
   "execution_count": null,
   "metadata": {},
   "outputs": [],
   "source": [
    "model = models.densenet161(pretrained=True)\n",
    "model.eval()\n",
    "model = model.to(device)\n",
    "\n",
    "top1 = AverageMeter()\n",
    "top5 = AverageMeter()\n",
    "\n",
    "with torch.no_grad():\n",
    "    eval_tqdm = tqdm(val_loader, total=len(val_loader), leave=False)\n",
    "    for data, target in eval_tqdm:\n",
    "        data, target = data.to(device), target.to(device)\n",
    "\n",
    "        output = model(data)\n",
    "\n",
    "        prec1, prec5 = accuracy(output.data, target, topk=(1, 5))\n",
    "        top1.update(prec1.item(), data.shape[0])\n",
    "        top5.update(prec5.item(), data.shape[0])\n",
    "\n",
    "        eval_tqdm.set_description(\n",
    "            f\"Prec@1: {top1.val:2.2f} ({top1.avg:2.2f}); \"\n",
    "            f\"Prec@5: {top5.val:2.2f} ({top5.avg:2.2f})\"\n",
    "        )\n",
    "\n",
    "print(f\" * Prec@1 {top1.avg:.3f} Prec@5 {top5.avg:.3f}\")\n",
    "total_pred[\"DenseNet-161\"] = {\"Prec@1\": top1.avg, \"Prec@5\": top5.avg}"
   ]
  },
  {
   "cell_type": "markdown",
   "metadata": {},
   "source": [
    "# SqueezeNet"
   ]
  },
  {
   "cell_type": "code",
   "execution_count": null,
   "metadata": {},
   "outputs": [],
   "source": [
    "model = models.squeezenet1_0(pretrained=True)\n",
    "model.eval()\n",
    "model = model.to(device)\n",
    "\n",
    "top1 = AverageMeter()\n",
    "top5 = AverageMeter()\n",
    "\n",
    "with torch.no_grad():\n",
    "    eval_tqdm = tqdm(val_loader, total=len(val_loader), leave=False)\n",
    "    for data, target in eval_tqdm:\n",
    "        data, target = data.to(device), target.to(device)\n",
    "\n",
    "        output = model(data)\n",
    "\n",
    "        prec1, prec5 = accuracy(output.data, target, topk=(1, 5))\n",
    "        top1.update(prec1.item(), data.shape[0])\n",
    "        top5.update(prec5.item(), data.shape[0])\n",
    "\n",
    "        eval_tqdm.set_description(\n",
    "            f\"Prec@1: {top1.val:2.2f} ({top1.avg:2.2f}); \"\n",
    "            f\"Prec@5: {top5.val:2.2f} ({top5.avg:2.2f})\"\n",
    "        )\n",
    "\n",
    "print(f\" * Prec@1 {top1.avg:.3f} Prec@5 {top5.avg:.3f}\")\n",
    "total_pred[\"SqueezeNet_1.0\"] = {\"Prec@1\": top1.avg, \"Prec@5\": top5.avg}"
   ]
  },
  {
   "cell_type": "markdown",
   "metadata": {},
   "source": [
    "# EfficientNet"
   ]
  },
  {
   "cell_type": "code",
   "execution_count": 17,
   "metadata": {},
   "outputs": [],
   "source": [
    "# model = models.efficientnet_b3(pretrained=True)\n",
    "# model.eval()\n",
    "# model = model.to(device)\n",
    "\n",
    "# top1 = AverageMeter()\n",
    "# top5 = AverageMeter()\n",
    "\n",
    "# with torch.no_grad():\n",
    "#     eval_tqdm = tqdm(val_loader, total=len(val_loader), leave=False)\n",
    "#     for data, target in eval_tqdm:\n",
    "#         data, target = data.to(device), target.to(device)\n",
    "\n",
    "#         output = model(data)\n",
    "\n",
    "#         prec1, prec5 = accuracy(output.data, target, topk=(1, 5))\n",
    "#         top1.update(prec1.item(), data.shape[0])\n",
    "#         top5.update(prec5.item(), data.shape[0])\n",
    "\n",
    "#         eval_tqdm.set_description(\n",
    "#             f\"Prec@1: {top1.val:2.2f} ({top1.avg:2.2f}); Prec@5: {top5.val:2.2f} ({top5.avg:2.2f})\"\n",
    "#         )\n",
    "\n",
    "# print(f\" * Prec@1 {top1.avg:.3f} Prec@5 {top5.avg:.3f}\")\n",
    "# total_pred[\"EfficientNet-B3\"] = {\"Prec@1\": top1.avg, \"Prec@5\": top5.avg}"
   ]
  },
  {
   "cell_type": "markdown",
   "metadata": {},
   "source": [
    "# Podsumowanie\n",
    "\n",
    "Poniżej przedstawiamy accuracy (dokładność) pretrenowanych modeli CNN na zbiorze ImageNet."
   ]
  },
  {
   "cell_type": "code",
   "execution_count": 21,
   "metadata": {},
   "outputs": [
    {
     "data": {
      "text/html": [
       "<div>\n",
       "<style scoped>\n",
       "    .dataframe tbody tr th:only-of-type {\n",
       "        vertical-align: middle;\n",
       "    }\n",
       "\n",
       "    .dataframe tbody tr th {\n",
       "        vertical-align: top;\n",
       "    }\n",
       "\n",
       "    .dataframe thead th {\n",
       "        text-align: right;\n",
       "    }\n",
       "</style>\n",
       "<table border=\"1\" class=\"dataframe\">\n",
       "  <thead>\n",
       "    <tr style=\"text-align: right;\">\n",
       "      <th></th>\n",
       "      <th>model</th>\n",
       "      <th>Prec@1</th>\n",
       "      <th>Prec@5</th>\n",
       "    </tr>\n",
       "  </thead>\n",
       "  <tbody>\n",
       "    <tr>\n",
       "      <th>0</th>\n",
       "      <td>AlexNet</td>\n",
       "      <td>56.518</td>\n",
       "      <td>79.070</td>\n",
       "    </tr>\n",
       "    <tr>\n",
       "      <th>6</th>\n",
       "      <td>SqueezeNet_1.0</td>\n",
       "      <td>58.092</td>\n",
       "      <td>80.420</td>\n",
       "    </tr>\n",
       "    <tr>\n",
       "      <th>3</th>\n",
       "      <td>Inception_v3</td>\n",
       "      <td>69.536</td>\n",
       "      <td>88.654</td>\n",
       "    </tr>\n",
       "    <tr>\n",
       "      <th>1</th>\n",
       "      <td>VGG19</td>\n",
       "      <td>72.376</td>\n",
       "      <td>90.876</td>\n",
       "    </tr>\n",
       "    <tr>\n",
       "      <th>2</th>\n",
       "      <td>ResNet-50</td>\n",
       "      <td>76.130</td>\n",
       "      <td>92.862</td>\n",
       "    </tr>\n",
       "    <tr>\n",
       "      <th>5</th>\n",
       "      <td>DenseNet-161</td>\n",
       "      <td>77.138</td>\n",
       "      <td>93.560</td>\n",
       "    </tr>\n",
       "    <tr>\n",
       "      <th>4</th>\n",
       "      <td>Wide_ResNet-50-2</td>\n",
       "      <td>78.468</td>\n",
       "      <td>94.086</td>\n",
       "    </tr>\n",
       "  </tbody>\n",
       "</table>\n",
       "</div>"
      ],
      "text/plain": [
       "              model  Prec@1  Prec@5\n",
       "0           AlexNet  56.518  79.070\n",
       "6    SqueezeNet_1.0  58.092  80.420\n",
       "3      Inception_v3  69.536  88.654\n",
       "1             VGG19  72.376  90.876\n",
       "2         ResNet-50  76.130  92.862\n",
       "5      DenseNet-161  77.138  93.560\n",
       "4  Wide_ResNet-50-2  78.468  94.086"
      ]
     },
     "metadata": {},
     "output_type": "display_data"
    }
   ],
   "source": [
    "import pandas as pd\n",
    "from IPython.display import display\n",
    "\n",
    "new_dict = {\"model\": [], \"Prec@1\": [], \"Prec@5\": []}\n",
    "for key, val in total_pred.items():\n",
    "    new_dict[\"model\"].append(key)\n",
    "    new_dict[\"Prec@1\"].append(total_pred[key][\"Prec@1\"])\n",
    "    new_dict[\"Prec@5\"].append(total_pred[key][\"Prec@5\"])\n",
    "\n",
    "df = pd.DataFrame.from_dict(new_dict)\n",
    "display(df.sort_values(by=[\"Prec@1\"]))"
   ]
  }
 ],
 "metadata": {
  "kernelspec": {
   "display_name": "Python 3",
   "language": "python",
   "name": "python3"
  },
  "language_info": {
   "codemirror_mode": {
    "name": "ipython",
    "version": 3
   },
   "file_extension": ".py",
   "mimetype": "text/x-python",
   "name": "python",
   "nbconvert_exporter": "python",
   "pygments_lexer": "ipython3",
   "version": "3.7.7"
  }
 },
 "nbformat": 4,
 "nbformat_minor": 5
}
